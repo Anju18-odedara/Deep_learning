{
 "cells": [
  {
   "cell_type": "code",
   "execution_count": 104,
   "id": "201296f7",
   "metadata": {},
   "outputs": [
    {
     "name": "stdout",
     "output_type": "stream",
     "text": [
      "     Pregnancies      Glucose BloodPressure      Insulin          BMI  \\\n",
      "-1   1:-0.294118   2:0.487437    3:0.180328  4:-0.292929         5:-1   \n",
      " 1   1:-0.882353  2:-0.145729   3:0.0819672  4:-0.414141         5:-1   \n",
      "-1  1:-0.0588235   2:0.839196   3:0.0491803         4:-1         5:-1   \n",
      " 1   1:-0.882353  2:-0.105528   3:0.0819672  4:-0.535354  5:-0.777778   \n",
      "-1          1:-1   2:0.376884   3:-0.344262  4:-0.292929  5:-0.602837   \n",
      "\n",
      "   DiabetesPedigreeFunction          Age       Outcome  \n",
      "-1             6:0.00149028   7:-0.53117  8:-0.0333333  \n",
      " 1              6:-0.207153  7:-0.766866   8:-0.666667  \n",
      "-1              6:-0.305514  7:-0.492741   8:-0.633333  \n",
      " 1              6:-0.162444  7:-0.923997          8:-1  \n",
      "-1                6:0.28465   7:0.887276        8:-0.6  \n"
     ]
    }
   ],
   "source": [
    "import pandas as pd\n",
    "\n",
    "\n",
    "# Define the column names \n",
    "column_names = ['Pregnancies', 'Glucose', 'BloodPressure', 'Insulin', 'BMI', 'DiabetesPedigreeFunction', 'Age', 'Outcome']\n",
    "\n",
    "# Load the dataset\n",
    "dataset = pd.read_csv('Downloads/diabetes_scale.txt', sep='\\s+', header=None, names=column_names)\n",
    "\n",
    "# Display the first few rows of the dataset\n",
    "print(dataset.head())\n",
    "\n"
   ]
  },
  {
   "cell_type": "code",
   "execution_count": 102,
   "id": "7ac56321",
   "metadata": {},
   "outputs": [
    {
     "name": "stdout",
     "output_type": "stream",
     "text": [
      "Basic Statistics:\n",
      "Number of Samples: 768\n",
      "Number of Features: 8\n",
      "Number of Positive Instances: 500\n",
      "Number of Negative Instances: 268\n",
      "\n",
      "Summary Statistics:\n",
      "Means:\n",
      "[-0.54764104  0.21502038  0.13287657 -0.585122   -0.81134873 -0.04642089\n",
      " -0.66364108 -0.59197052]\n",
      "\n",
      "Standard Deviations:\n",
      "[0.39616281 0.32112355 0.31710168 0.32205724 0.27226704 0.23484428\n",
      " 0.28276073 0.39175244]\n"
     ]
    },
    {
     "data": {
      "image/png": "[encoded data removed]",
      "text/plain": [
       "<Figure size 432x288 with 1 Axes>"
      ]
     },
     "metadata": {
      "needs_background": "light"
     },
     "output_type": "display_data"
    }
   ],
   "source": [
    "import numpy as np\n",
    "\n",
    "# Load the data\n",
    "with open('Downloads/diabetes_scale.txt', 'r') as file:\n",
    "    lines = file.readlines()\n",
    "\n",
    "data = []\n",
    "labels = []\n",
    "\n",
    "for line in lines:\n",
    "    elements = line.strip().split()\n",
    "    labels.append(int(elements[0]))\n",
    "    features = {int(x.split(':')[0]): float(x.split(':')[1]) for x in elements[1:]}\n",
    "    data.append(features)\n",
    "\n",
    "# Convert to numpy arrays for easier manipulation\n",
    "data = [[x.get(i, 0) for i in range(1, 9)] for x in data]\n",
    "data = np.array(data)\n",
    "labels = np.array(labels)\n",
    "\n",
    "# Basic Statistics\n",
    "print(\"Basic Statistics:\")\n",
    "print(f\"Number of Samples: {len(data)}\")\n",
    "print(f\"Number of Features: {data.shape[1]}\")\n",
    "print(f\"Number of Positive Instances: {np.sum(labels == 1)}\")\n",
    "print(f\"Number of Negative Instances: {np.sum(labels == -1)}\")\n",
    "\n",
    "# Summary Statistics\n",
    "print(\"\\nSummary Statistics:\")\n",
    "print(\"Means:\")\n",
    "print(np.mean(data, axis=0))\n",
    "print(\"\\nStandard Deviations:\")\n",
    "print(np.std(data, axis=0))\n",
    "\n",
    "\n",
    "\n",
    "# Class Distribution\n",
    "import matplotlib.pyplot as plt\n",
    "\n",
    "unique, counts = np.unique(labels, return_counts=True)\n",
    "plt.bar(unique, counts)\n",
    "plt.title('Class Distribution')\n",
    "plt.xlabel('Class')\n",
    "plt.ylabel('Count')\n",
    "plt.show()\n"
   ]
  },
  {
   "cell_type": "code",
   "execution_count": 114,
   "id": "07d7f03f",
   "metadata": {},
   "outputs": [
    {
     "name": "stdout",
     "output_type": "stream",
     "text": [
      "Accuracy on testing set: 72.73%\n"
     ]
    }
   ],
   "source": [
    "import numpy as np\n",
    "from sklearn.model_selection import train_test_split\n",
    "\n",
    "# Load and Preprocess Data\n",
    "with open('Downloads/diabetes_scale.txt', 'r') as file:\n",
    "    lines = file.readlines()\n",
    "\n",
    "data = []\n",
    "labels = []\n",
    "\n",
    "for line in lines:\n",
    "    elements = line.strip().split()\n",
    "    labels.append(int(elements[0]))\n",
    "    features = {int(x.split(':')[0]): float(x.split(':')[1]) for x in elements[1:]}\n",
    "    data.append(features)\n",
    "\n",
    "# Convert to numpy arrays for easier manipulation\n",
    "data = [[x.get(i, 0) for i in range(1, 9)] for x in data]\n",
    "data = np.array(data)\n",
    "labels = np.array(labels)\n",
    "\n",
    "#  Initialize Weights and Bias\n",
    "num_features = data.shape[1]\n",
    "weights = np.random.randn(num_features)\n",
    "bias = np.random.randn()\n",
    "\n",
    "#  Train the Perceptron with Gradient Descent\n",
    "num_epochs = 100\n",
    "learning_rate = 0.1\n",
    "\n",
    "for epoch in range(num_epochs):\n",
    "    for i in range(len(data)):\n",
    "        prediction = np.dot(weights, data[i]) + bias\n",
    "        error = labels[i] - prediction\n",
    "        weights += learning_rate * error * data[i]\n",
    "        bias += learning_rate * error\n",
    "\n",
    "#  Evaluate\n",
    "# Split data into training and testing sets\n",
    "X_train, X_test, y_train, y_test = train_test_split(data, labels, test_size=0.2, random_state=42)\n",
    "\n",
    "# Function for making predictions\n",
    "def predict(data_point):\n",
    "    prediction = np.dot(weights, data_point) + bias\n",
    "    return np.sign(prediction)\n",
    "\n",
    "# Evaluate on testing set\n",
    "correct_predictions = 0\n",
    "for i in range(len(X_test)):\n",
    "    predicted_label = predict(X_test[i])\n",
    "    if predicted_label == y_test[i]:\n",
    "        correct_predictions += 1\n",
    "\n",
    "accuracy = correct_predictions / len(X_test)\n",
    "print(f\"Accuracy on testing set: {accuracy * 100:.2f}%\")\n"
   ]
  },
  {
   "cell_type": "code",
   "execution_count": 115,
   "id": "1f9875f4",
   "metadata": {},
   "outputs": [
    {
     "name": "stdout",
     "output_type": "stream",
     "text": [
      "Confusion Matrix:\n",
      "[[38 17]\n",
      " [25 74]]\n"
     ]
    }
   ],
   "source": [
    "from sklearn.metrics import confusion_matrix\n",
    "\n",
    "# Function for making predictions\n",
    "def predict(data_point):\n",
    "    prediction = np.dot(weights, data_point) + bias\n",
    "    return np.sign(prediction)\n",
    "\n",
    "# Predict on the testing set\n",
    "y_pred = [predict(x) for x in X_test]\n",
    "\n",
    "# Generate the confusion matrix\n",
    "confusion_mat = confusion_matrix(y_test, y_pred)\n",
    "\n",
    "print(\"Confusion Matrix:\")\n",
    "print(confusion_mat)\n"
   ]
  },
  {
   "cell_type": "code",
   "execution_count": 88,
   "id": "f9ffd972",
   "metadata": {},
   "outputs": [
    {
     "name": "stdout",
     "output_type": "stream",
     "text": [
      "Accuracy on testing set: 32.47%\n",
      "Accuracy scores: [0.7647058823529411, 0.6535947712418301, 0.7450980392156863, 0.803921568627451, 0.7908496732026143]\n",
      "Mean Accuracy: 75.16%\n"
     ]
    }
   ],
   "source": []
  },
  {
   "cell_type": "code",
   "execution_count": 116,
   "id": "8d798dd6",
   "metadata": {},
   "outputs": [
    {
     "name": "stdout",
     "output_type": "stream",
     "text": [
      "Training Accuracy: 82.74%\n",
      "Testing Accuracy: 68.83%\n"
     ]
    }
   ],
   "source": [
    "from sklearn.neighbors import KNeighborsClassifier\n",
    "from sklearn.metrics import accuracy_score\n",
    "\n",
    "# Create a KNN classifier\n",
    "knn_model = KNeighborsClassifier(n_neighbors=5)  # You can adjust the number of neighbors (n_neighbors) as needed\n",
    "\n",
    "# Train the model on your training data\n",
    "knn_model.fit(X_train, y_train)\n",
    "\n",
    "# Predict on the training and testing data\n",
    "y_train_pred = knn_model.predict(X_train)\n",
    "y_test_pred = knn_model.predict(X_test)\n",
    "\n",
    "# Calculate accuracy\n",
    "train_accuracy = accuracy_score(y_train, y_train_pred)\n",
    "test_accuracy = accuracy_score(y_test, y_test_pred)\n",
    "\n",
    "print(f\"Training Accuracy: {train_accuracy*100:.2f}%\")\n",
    "print(f\"Testing Accuracy: {test_accuracy*100:.2f}%\")\n"
   ]
  },
  {
   "cell_type": "code",
   "execution_count": 117,
   "id": "83e4456e",
   "metadata": {},
   "outputs": [
    {
     "data": {
      "image/png": "[encoded data removed]",
      "text/plain": [
       "<Figure size 432x288 with 1 Axes>"
      ]
     },
     "metadata": {
      "needs_background": "light"
     },
     "output_type": "display_data"
    },
    {
     "data": {
      "text/plain": [
       "<Figure size 432x288 with 0 Axes>"
      ]
     },
     "metadata": {},
     "output_type": "display_data"
    }
   ],
   "source": [
    "# Assuming you have already trained the KNN model and made predictions\n",
    "\n",
    "# Results - Confusion Matrix\n",
    "from sklearn.metrics import confusion_matrix\n",
    "import seaborn as sns\n",
    "import matplotlib.pyplot as plt\n",
    "\n",
    "# Confusion Matrix for KNN\n",
    "c_matrix_knn = confusion_matrix(y_test, y_test_pred)\n",
    "\n",
    "ax = sns.heatmap(\n",
    "    c_matrix_knn, annot=True, \n",
    "    xticklabels=['No Diabetes', 'Diabetes'], \n",
    "    yticklabels=['No Diabetes', 'Diabetes'], \n",
    "    cbar=False, cmap='Blues'\n",
    ")\n",
    "ax.set_xlabel(\"Prediction\")\n",
    "ax.set_ylabel(\"Actual\")\n",
    "plt.show()\n",
    "plt.clf()\n"
   ]
  },
  {
   "cell_type": "code",
   "execution_count": 118,
   "id": "d0c98f37",
   "metadata": {},
   "outputs": [
    {
     "data": {
      "image/png": "[encoded data removed]",
      "text/plain": [
       "<Figure size 432x288 with 1 Axes>"
      ]
     },
     "metadata": {
      "needs_background": "light"
     },
     "output_type": "display_data"
    }
   ],
   "source": [
    "from sklearn.metrics import roc_curve, auc\n",
    "\n",
    "# Assuming you have already trained the KNN model and made predictions\n",
    "\n",
    "# Calculate the ROC curve\n",
    "fpr, tpr, thresholds = roc_curve(y_test, y_test_pred)\n",
    "\n",
    "# Calculate the area under the ROC curve\n",
    "roc_auc = auc(fpr, tpr)\n",
    "\n",
    "# Plot the ROC curve\n",
    "plt.figure()\n",
    "plt.plot(fpr, tpr, color='darkorange', lw=2, label='ROC curve (area = {:.2f})'.format(roc_auc))\n",
    "plt.plot([0, 1], [0, 1], color='navy', lw=2, linestyle='--')\n",
    "plt.xlim([0.0, 1.0])\n",
    "plt.ylim([0.0, 1.05])\n",
    "plt.xlabel('False Positive Rate')\n",
    "plt.ylabel('True Positive Rate')\n",
    "plt.title('Receiver Operating Characteristic (ROC)')\n",
    "plt.legend(loc=\"lower right\")\n",
    "plt.show()\n"
   ]
  },
  {
   "cell_type": "code",
   "execution_count": null,
   "id": "cd3af41a",
   "metadata": {},
   "outputs": [],
   "source": []
  },
  {
   "cell_type": "code",
   "execution_count": null,
   "id": "e70b9217",
   "metadata": {},
   "outputs": [],
   "source": []
  },
  {
   "cell_type": "code",
   "execution_count": null,
   "id": "b898e269",
   "metadata": {},
   "outputs": [],
   "source": []
  }
 ],
 "metadata": {
  "kernelspec": {
   "display_name": "Python 3 (ipykernel)",
   "language": "python",
   "name": "python3"
  },
  "language_info": {
   "codemirror_mode": {
    "name": "ipython",
    "version": 3
   },
   "file_extension": ".py",
   "mimetype": "text/x-python",
   "name": "python",
   "nbconvert_exporter": "python",
   "pygments_lexer": "ipython3",
   "version": "3.9.12"
  }
 },
 "nbformat": 4,
 "nbformat_minor": 5
}
